{
 "cells": [
  {
   "cell_type": "markdown",
   "id": "32ec9bad-7821-4bf2-82ad-6d25766a2871",
   "metadata": {},
   "source": [
    "# Accessing cell type lookup table data"
   ]
  },
  {
   "cell_type": "markdown",
   "id": "58c79309-6f64-4e3c-a603-50fc8df117aa",
   "metadata": {},
   "source": [
    "## Overview\n",
    "\n",
    "This notebook will go over how to load the cell type lookup table data and access its contents. Unlike other Allen Institute data sets, this data was very recently collected and is not publicly available, so you will access it by attaching the \"cell_type_lookup_table_nwb\" data asset and interacting with it through your capsule."
   ]
  },
  {
   "cell_type": "markdown",
   "id": "6d670bfa-091e-4897-90ce-1064b623fc40",
   "metadata": {},
   "source": [
    "## Import required packages\n",
    "Since the data is packaged as nwb files, you'll need to import hdmf_zarr to interact with the data. The metadata for each experiment is stored as .json files, so you'll want to import json as well.\n",
    "\n",
    "...and os is just nice for formatting file paths!"
   ]
  },
  {
   "cell_type": "code",
   "execution_count": 6,
   "id": "d7c393a3-d3cb-4b93-be8c-a5efa3554fb7",
   "metadata": {},
   "outputs": [],
   "source": [
    "from hdmf_zarr import NWBZarrIO\n",
    "import json\n",
    "import os"
   ]
  },
  {
   "cell_type": "markdown",
   "id": "6f9a8c8e-dc3e-4725-87c0-608f3c3166b9",
   "metadata": {},
   "source": [
    "## Loading the data\n",
    "\n",
    "Let's try loading one session's worth of data to see how to work with it."
   ]
  },
  {
   "cell_type": "code",
   "execution_count": 8,
   "id": "46010e5e-a3e8-4a0f-a395-c168eeeb3c12",
   "metadata": {},
   "outputs": [],
   "source": [
    "# an 'arbitrarily' selected session\n",
    "session = '661398_2023-04-03_15-47-29'\n",
    "session_directory = f'/data/cell_type_lookup_table_nwb/ecephys_{session}_nwb'\n",
    "\n",
    "nwb_file = os.path.join(session_directory, f'ecephys_{session}_experiment1_recording1.nwb.zarr')\n",
    "io = NWBZarrIO(nwb_file, \"r\")\n",
    "nwbfile_read = io.read()"
   ]
  },
  {
   "cell_type": "markdown",
   "id": "d6baa4b1-d910-443d-8c88-42be0112262b",
   "metadata": {},
   "source": [
    "If you'd like to explore the contents of the nwb file in a widget with a graphical user interface, you can install nwb2widget in your environment, then run:\n",
    "\n",
    "```{code-cell} ipython3\n",
    "from nwbwidgets import nwb2widget\n",
    "nwb2widget(nwbfile_read)\n",
    "```\n",
    "\n"
   ]
  },
  {
   "cell_type": "markdown",
   "id": "5ea4b866-4a00-4970-a6ac-b26ca8b30d80",
   "metadata": {},
   "source": [
    "Before further working with this data, let's take a look at the metadata so we know what to expect."
   ]
  },
  {
   "cell_type": "code",
   "execution_count": 9,
   "id": "992c46c5-0676-4600-ac88-c14d0ec4520b",
   "metadata": {},
   "outputs": [
    {
     "name": "stdout",
     "output_type": "stream",
     "text": [
      "Adora2a-Cre/wt\n",
      "['D1 enhancer CoChR', 'DIO-ChRmine-mScarlet']\n"
     ]
    }
   ],
   "source": [
    "# subject.json contains info about the mouse, procedures.json contains info about surgeries and such that were performed\n",
    "subject_json = os.path.join(session_directory, 'subject.json')\n",
    "procedures_json = os.path.join(session_directory, 'procedures.json')\n",
    "\n",
    "# load both json files\n",
    "with open(subject_json, 'r', ) as f:\n",
    "    subject = json.load(f)\n",
    "with open(procedures_json, 'r', ) as f:\n",
    "    procedures = json.load(f)\n",
    "\n",
    "print(subject['genotype'])\n",
    "\n",
    "virus_names = []\n",
    "try:\n",
    "    for material in procedures['injections'][0]['injection_materials']:\n",
    "        virus_names.append(material['name'])\n",
    "except(KeyError):\n",
    "    for material in procedures['subject_procedures'][2]['injection_materials']: # the procedures scraped from NSB are formatted differently\n",
    "        virus_names.append(material['name'])\n",
    "\n",
    "print(virus_names)"
   ]
  },
  {
   "cell_type": "markdown",
   "id": "f633998d-fab4-41e8-8068-679d7dd9e1c2",
   "metadata": {},
   "source": [
    "So this animal was Adora2a-Cre (meaning it expresses Cre in D2 cells) and it was injected with two viruses: an enhancer delivering CoChR to D1 cells, and a Cre-dependent virus delivering ChRmine. From this, we can conclude that this mouse should express CoChR in D1 cells and ChRmine in D2 cells. Therefore, any cells responding to blue laser pulses are D1 calls, and cells responding to red laser pulses are D2 cells!"
   ]
  },
  {
   "cell_type": "code",
   "execution_count": null,
   "id": "207ee610-6b07-473d-a9af-5656f143cab3",
   "metadata": {},
   "outputs": [],
   "source": []
  }
 ],
 "metadata": {
  "kernelspec": {
   "display_name": "Python 3",
   "language": "python",
   "name": "python3"
  },
  "language_info": {
   "codemirror_mode": {
    "name": "ipython",
    "version": 3
   },
   "file_extension": ".py",
   "mimetype": "text/x-python",
   "name": "python",
   "nbconvert_exporter": "python",
   "pygments_lexer": "ipython3",
   "version": "3.9.12"
  }
 },
 "nbformat": 4,
 "nbformat_minor": 5
}
