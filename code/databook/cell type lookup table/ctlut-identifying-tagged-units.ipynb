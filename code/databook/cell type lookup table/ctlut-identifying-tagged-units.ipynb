{
 "cells": [
  {
   "cell_type": "markdown",
   "id": "a76cb91b-c2cf-4910-8a83-119d1c423bb0",
   "metadata": {},
   "source": [
    "# Identifying tagged neurons\n",
    "\n",
    "As described in the optotagging section, identifying cells in an electrophysiological recording relies on looking for responses that are precicely synced with the laser stimuli. This notebook will go over how to align responses of recorded units to the laser presentations, calculate some metrics to determine how responsive the unit is, and then perform the same over all units collected during a session in order to assign cell type labels.\n",
    "\n",
    "## Import required packages\n",
    "Since the data is packaged as nwb files, you'll need to import hdmf_zarr to interact with the data. The metadata for each experiment is stored as .json files, so you'll want to import json as well.\n",
    "\n",
    "...and os is just nice for formatting file paths!"
   ]
  },
  {
   "cell_type": "code",
   "execution_count": 1,
   "id": "743a2685-80cc-4c73-a90e-477534536c80",
   "metadata": {},
   "outputs": [],
   "source": [
    "from hdmf_zarr import NWBZarrIO\n",
    "import json\n",
    "import os"
   ]
  },
  {
   "cell_type": "markdown",
   "id": "54ca4408-dfe3-4802-b97f-fb346805c3b1",
   "metadata": {},
   "source": [
    "## Determining identity of laser responsive cells\n",
    "\n",
    "Every experimental session may have a different set of tagged neurons. The identity of any laser-responsive units can be inferred from the mouse's genotype and viruses injected, both of which can be found in the metadata. A list of the mouse lines used in this data set and what they tag can be found in the optotagging section."
   ]
  },
  {
   "cell_type": "code",
   "execution_count": 2,
   "id": "f6477717-a5ae-4889-811c-41db78335b70",
   "metadata": {},
   "outputs": [],
   "source": [
    "# an 'arbitrarily' selected session\n",
    "session = '661398_2023-04-03_15-47-29'\n",
    "session_directory = f'/data/cell_type_lookup_table_nwb/ecephys_{session}_nwb'\n",
    "\n",
    "nwb_file = os.path.join(session_directory, f'ecephys_{session}_experiment1_recording1.nwb.zarr')\n",
    "io = NWBZarrIO(nwb_file, \"r\")\n",
    "nwbfile_read = io.read()"
   ]
  },
  {
   "cell_type": "code",
   "execution_count": 3,
   "id": "c7fb0382-57e3-4da3-b050-212897e89efa",
   "metadata": {},
   "outputs": [
    {
     "name": "stdout",
     "output_type": "stream",
     "text": [
      "Adora2a-Cre/wt\n",
      "['D1 enhancer CoChR', 'DIO-ChRmine-mScarlet']\n"
     ]
    }
   ],
   "source": [
    "# subject.json contains info about the mouse, procedures.json contains info about surgeries and such that were performed\n",
    "subject_json = os.path.join(session_directory, 'subject.json')\n",
    "procedures_json = os.path.join(session_directory, 'procedures.json')\n",
    "\n",
    "# load both json files\n",
    "with open(subject_json, 'r', ) as f:\n",
    "    subject = json.load(f)\n",
    "with open(procedures_json, 'r', ) as f:\n",
    "    procedures = json.load(f)\n",
    "\n",
    "print(subject['genotype'])\n",
    "\n",
    "virus_names = []\n",
    "try:\n",
    "    for material in procedures['injections'][0]['injection_materials']:\n",
    "        virus_names.append(material['name'])\n",
    "except(KeyError):\n",
    "    for material in procedures['subject_procedures'][2]['injection_materials']: # the procedures scraped from NSB are formatted differently\n",
    "        virus_names.append(material['name'])\n",
    "\n",
    "print(virus_names)"
   ]
  },
  {
   "cell_type": "code",
   "execution_count": null,
   "id": "f2c553a7-5889-4ac0-85e0-04179968b512",
   "metadata": {},
   "outputs": [],
   "source": [
    "So this animal was Adora2a-Cre (meaning it expresses Cre in D2 cells) and it was injected with two viruses: an enhancer delivering CoChR to D1 cells, and a Cre-dependent virus delivering ChRmine. From this, we can conclude that this mouse should express CoChR in D1 cells and ChRmine in D2 cells. Therefore, any cells responding to blue laser pulses are D1 calls, and cells responding to red laser pulses are D2 cells!"
   ]
  }
 ],
 "metadata": {
  "kernelspec": {
   "display_name": "Python 3",
   "language": "python",
   "name": "python3"
  },
  "language_info": {
   "codemirror_mode": {
    "name": "ipython",
    "version": 3
   },
   "file_extension": ".py",
   "mimetype": "text/x-python",
   "name": "python",
   "nbconvert_exporter": "python",
   "pygments_lexer": "ipython3",
   "version": "3.9.12"
  }
 },
 "nbformat": 4,
 "nbformat_minor": 5
}
